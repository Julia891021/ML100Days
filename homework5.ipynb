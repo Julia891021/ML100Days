{
 "cells": [
  {
   "cell_type": "code",
   "execution_count": null,
   "metadata": {},
   "outputs": [],
   "source": []
  },
  {
   "cell_type": "code",
   "execution_count": 2,
   "metadata": {},
   "outputs": [],
   "source": [
    "import numpy as np\n",
    "english_score = np.array([55,89,76,65,48,70])\n",
    "math_score = np.array([60,85,60,68,np.nan,60])\n",
    "chinese_score = np.array([65,90,82,72,66,77])"
   ]
  },
  {
   "cell_type": "code",
   "execution_count": 4,
   "metadata": {},
   "outputs": [
    {
     "name": "stdout",
     "output_type": "stream",
     "text": [
      "英文成績平均 67.16666666666667\n",
      "英文成績最大值 89\n",
      "英文成績最小值 48\n",
      "英文成績標準差 13.433995020924426\n",
      "數學成績平均 66.6\n",
      "數學成績最大值 85.0\n",
      "數學成績最小值 60.0\n",
      "數學成績標準差 9.707728879609279\n",
      "國文成績平均 75.33333333333333\n",
      "國文成績最大值 90\n",
      "國文成績最小值 65\n",
      "國文成績標準差 8.825468196582484\n"
     ]
    }
   ],
   "source": [
    "#Q1\n",
    "english_mean = np.nanmean(english_score)\n",
    "english_max = max(english_score)\n",
    "english_min = min(english_score)\n",
    "english_std = np.std(english_score)\n",
    "print(\"英文成績平均\",english_mean)\n",
    "print(\"英文成績最大值\",english_max)\n",
    "print(\"英文成績最小值\", english_min)\n",
    "print(\"英文成績標準差\", english_std)\n",
    "math_mean = np.nanmean(math_score)\n",
    "math_max = np.nanmax(math_score)\n",
    "math_min = np.nanmin(math_score)\n",
    "math_std = np.nanstd(math_score)\n",
    "print(\"數學成績平均\",math_mean)\n",
    "print(\"數學成績最大值\",math_max)\n",
    "print(\"數學成績最小值\", math_min)\n",
    "print(\"數學成績標準差\", math_std)\n",
    "chinese_mean = np.mean(chinese_score)\n",
    "chinese_max = max(chinese_score)\n",
    "chinese_min = min(chinese_score)\n",
    "chinese_std = np.std(chinese_score)\n",
    "print(\"國文成績平均\",chinese_mean)\n",
    "print(\"國文成績最大值\",chinese_max)\n",
    "print(\"國文成績最小值\", chinese_min)\n",
    "print(\"國文成績標準差\", chinese_std)"
   ]
  },
  {
   "cell_type": "code",
   "execution_count": 5,
   "metadata": {},
   "outputs": [
    {
     "name": "stdout",
     "output_type": "stream",
     "text": [
      "數學成績平均 64.66666666666667\n",
      "數學成績最大值 85.0\n",
      "數學成績最小值 55.0\n",
      "數學成績標準差 9.860132971832694\n"
     ]
    }
   ],
   "source": [
    "#Q2\n",
    "math_score[4] = 55\n",
    "math_mean = np.nanmean(math_score)\n",
    "math_max = np.nanmax(math_score)\n",
    "math_min = np.nanmin(math_score)\n",
    "math_std = np.nanstd(math_score)\n",
    "print(\"數學成績平均\",math_mean)\n",
    "print(\"數學成績最大值\",math_max)\n",
    "print(\"數學成績最小值\", math_min)\n",
    "print(\"數學成績標準差\", math_std)"
   ]
  },
  {
   "cell_type": "code",
   "execution_count": 6,
   "metadata": {},
   "outputs": [
    {
     "name": "stdout",
     "output_type": "stream",
     "text": [
      "[[1.         0.7855563  0.97792828]\n",
      " [0.7855563  1.         0.74056803]\n",
      " [0.97792828 0.74056803 1.        ]]\n",
      "[0.97792828 0.74056803 1.        ]\n",
      "相關係數最高為英文科\n"
     ]
    }
   ],
   "source": [
    "#Q3\n",
    "r = np.vstack((english_score, math_score, chinese_score))\n",
    "related = np.corrcoef(r)\n",
    "print(related)\n",
    "print(related[2]) \n",
    "print(\"相關係數最高為英文科\")"
   ]
  },
  {
   "cell_type": "code",
   "execution_count": null,
   "metadata": {},
   "outputs": [],
   "source": []
  }
 ],
 "metadata": {
  "kernelspec": {
   "display_name": "Python 3",
   "language": "python",
   "name": "python3"
  },
  "language_info": {
   "codemirror_mode": {
    "name": "ipython",
    "version": 3
   },
   "file_extension": ".py",
   "mimetype": "text/x-python",
   "name": "python",
   "nbconvert_exporter": "python",
   "pygments_lexer": "ipython3",
   "version": "3.7.9"
  }
 },
 "nbformat": 4,
 "nbformat_minor": 4
}
