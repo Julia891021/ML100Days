{
 "cells": [
  {
   "cell_type": "code",
   "execution_count": 26,
   "metadata": {},
   "outputs": [],
   "source": [
    "import numpy as np\n",
    "english_score = np.array([55,89,76,65,48,70])\n",
    "math_score = np.array([60,85,60,68,np.nan,60])\n",
    "chinese_score = np.array([65,90,82,72,66,77])"
   ]
  },
  {
   "cell_type": "code",
   "execution_count": 27,
   "metadata": {},
   "outputs": [
    {
     "name": "stdout",
     "output_type": "stream",
     "text": [
      "英文成績平均 67.16666666666667\n",
      "英文成績最大值 89\n",
      "英文成績最小值 48\n",
      "英文成績標準差 [55 89 76 65 48 70]\n",
      "數學成績平均 66.6\n",
      "數學成績最大值 85.0\n",
      "數學成績最小值 60.0\n",
      "數學成績標準差 [60. 85. 60. 68. nan 60.]\n",
      "數學成績平均 75.33333333333333\n",
      "數學成績最大值 90\n",
      "數學成績最小值 65\n",
      "數學成績標準差 [65 90 82 72 66 77]\n"
     ]
    }
   ],
   "source": [
    "#Q1\n",
    "english_mean = np.mean(english_score)\n",
    "english_max = max(english_score)\n",
    "english_min = min(english_score)\n",
    "english_std = np.std(english_score)\n",
    "print(\"英文成績平均\",english_mean)\n",
    "print(\"英文成績最大值\",english_max)\n",
    "print(\"英文成績最小值\", english_min)\n",
    "print(\"英文成績標準差\", english_score)\n",
    "math_mean = np.nanmean(math_score)\n",
    "math_max = np.nanmax(math_score)\n",
    "math_min = np.nanmin(math_score)\n",
    "math_std = np.nanstd(math_score)\n",
    "print(\"數學成績平均\",math_mean)\n",
    "print(\"數學成績最大值\",math_max)\n",
    "print(\"數學成績最小值\", math_min)\n",
    "print(\"數學成績標準差\", math_score)\n",
    "chinese_mean = np.mean(chinese_score)\n",
    "chinese_max = max(chinese_score)\n",
    "chinese_min = min(chinese_score)\n",
    "chinese_std = np.std(chinese_score)\n",
    "print(\"國文成績平均\",chinese_mean)\n",
    "print(\"國文成績最大值\",chinese_max)\n",
    "print(\"國文成績最小值\", chinese_min)\n",
    "print(\"國文成績標準差\", chinese_score)"
   ]
  },
  {
   "cell_type": "code",
   "execution_count": 31,
   "metadata": {},
   "outputs": [
    {
     "name": "stdout",
     "output_type": "stream",
     "text": [
      "數學成績平均 64.66666666666667\n",
      "數學成績最大值 85.0\n",
      "數學成績最小值 55.0\n",
      "數學成績標準差 [60. 85. 60. 68. 55. 60.]\n"
     ]
    }
   ],
   "source": [
    "#Q2\n",
    "math_score[4] = 55\n",
    "math_mean = np.nanmean(math_score)\n",
    "math_max = np.nanmax(math_score)\n",
    "math_min = np.nanmin(math_score)\n",
    "math_std = np.nanstd(math_score)\n",
    "print(\"數學成績平均\",math_mean)\n",
    "print(\"數學成績最大值\",math_max)\n",
    "print(\"數學成績最小值\", math_min)\n",
    "print(\"數學成績標準差\", math_score)"
   ]
  },
  {
   "cell_type": "code",
   "execution_count": 40,
   "metadata": {},
   "outputs": [
    {
     "name": "stdout",
     "output_type": "stream",
     "text": [
      "[0.97792828 0.74056803 1.        ]\n"
     ]
    }
   ],
   "source": [
    "#Q3\n",
    "r = np.vstack((english_score, math_score, chinese_score))\n",
    "related = np.corrcoef(r)\n",
    "print(related[2]) \n",
    "print(\"相關係數最高為英文科\")"
   ]
  },
  {
   "cell_type": "code",
   "execution_count": null,
   "metadata": {},
   "outputs": [],
   "source": []
  }
 ],
 "metadata": {
  "kernelspec": {
   "display_name": "Python 3",
   "language": "python",
   "name": "python3"
  },
  "language_info": {
   "codemirror_mode": {
    "name": "ipython",
    "version": 3
   },
   "file_extension": ".py",
   "mimetype": "text/x-python",
   "name": "python",
   "nbconvert_exporter": "python",
   "pygments_lexer": "ipython3",
   "version": "3.7.9"
  }
 },
 "nbformat": 4,
 "nbformat_minor": 4
}
